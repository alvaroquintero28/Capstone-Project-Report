{
 "cells": [
  {
   "cell_type": "code",
   "execution_count": 2,
   "metadata": {},
   "outputs": [
    {
     "ename": "NameError",
     "evalue": "name 'pd' is not defined",
     "output_type": "error",
     "traceback": [
      "\u001b[0;31m---------------------------------------------------------------------------\u001b[0m",
      "\u001b[0;31mNameError\u001b[0m                                 Traceback (most recent call last)",
      "Cell \u001b[0;32mIn[2], line 2\u001b[0m\n\u001b[1;32m      1\u001b[0m \u001b[38;5;66;03m# Load your dataset\u001b[39;00m\n\u001b[0;32m----> 2\u001b[0m df \u001b[38;5;241m=\u001b[39m \u001b[43mpd\u001b[49m\u001b[38;5;241m.\u001b[39mread_csv(\u001b[38;5;124m'\u001b[39m\u001b[38;5;124mWellbeing_and_lifestyle_data_Kaggle.csv\u001b[39m\u001b[38;5;124m'\u001b[39m)\n\u001b[1;32m      4\u001b[0m \u001b[38;5;66;03m# Inspect the initial structure of the dataset\u001b[39;00m\n\u001b[1;32m      5\u001b[0m \u001b[38;5;28mprint\u001b[39m(\u001b[38;5;124m\"\u001b[39m\u001b[38;5;124mInitial DataFrame:\u001b[39m\u001b[38;5;124m\"\u001b[39m)\n",
      "\u001b[0;31mNameError\u001b[0m: name 'pd' is not defined"
     ]
    }
   ],
   "source": [
    "# Load your dataset\n",
    "df = pd.read_csv('Wellbeing_and_lifestyle_data_Kaggle.csv')\n",
    "\n",
    "# Inspect the initial structure of the dataset\n",
    "print(\"Initial DataFrame:\")\n",
    "print(df.info())\n",
    "\n",
    "# Print actual column names to find mismatches\n",
    "print(\"\\nColumns in DataFrame:\")\n",
    "print(df.columns)\n",
    "\n",
    "# Standardize column names (strip whitespace)\n",
    "df.columns = df.columns.str.strip()\n",
    "\n",
    "# Select relevant columns (Ensure correct names)\n",
    "relevant_columns = ['DAILY_STRESS', 'AGE', 'GENDER', 'SLEEP_HOURS']  # Adjust based on actual column names\n",
    "df = df[relevant_columns]\n",
    "\n",
    "# Standardize the age category\n",
    "df.loc[:, 'AGE'] = df['AGE'].replace({'Less than 20': '20 or less'})\n",
    "\n",
    "# Convert 'DAILY_STRESS' and 'SLEEP_HOURS' to numeric, coercing errors\n",
    "df.loc[:, 'DAILY_STRESS'] = pd.to_numeric(df['DAILY_STRESS'], errors='coerce')\n",
    "df.loc[:, 'SLEEP_HOURS'] = pd.to_numeric(df['SLEEP_HOURS'], errors='coerce')\n",
    "\n",
    "# Remove duplicates if any\n",
    "df.drop_duplicates(inplace=True)\n",
    "\n",
    "# Check for missing values\n",
    "missing_values = df.isnull().sum()\n",
    "print(\"\\nMissing values in each column:\")\n",
    "print(missing_values)\n",
    "\n",
    "# Handle missing values - drop rows with key variables missing\n",
    "df.dropna(subset=['DAILY_STRESS', 'AGE', 'GENDER', 'SLEEP_HOURS'], inplace=True)\n",
    "\n",
    "# Generate descriptive statistics\n",
    "descriptive_summary = df.describe(include='all')\n",
    "print(\"\\nDescriptive summary of the cleaned data:\")\n",
    "print(descriptive_summary)\n",
    "\n",
    "# Save the cleaned dataset\n",
    "df.to_csv('cleaned_work_life_balance.csv', index=False)\n",
    "print(\"\\nData cleaning complete. Cleaned data saved to 'cleaned_work_life_balance.csv'.\")\n"
   ]
  }
 ],
 "metadata": {
  "kernelspec": {
   "display_name": "Python 3",
   "language": "python",
   "name": "python3"
  },
  "language_info": {
   "codemirror_mode": {
    "name": "ipython",
    "version": 3
   },
   "file_extension": ".py",
   "mimetype": "text/x-python",
   "name": "python",
   "nbconvert_exporter": "python",
   "pygments_lexer": "ipython3",
   "version": "3.12.3"
  }
 },
 "nbformat": 4,
 "nbformat_minor": 2
}
